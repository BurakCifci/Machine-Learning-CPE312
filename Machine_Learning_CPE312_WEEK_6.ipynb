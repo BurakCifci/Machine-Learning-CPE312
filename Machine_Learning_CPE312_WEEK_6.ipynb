{
  "nbformat": 4,
  "nbformat_minor": 0,
  "metadata": {
    "colab": {
      "name": "Machine_Learning_CPE312_WEEK_6.ipynb",
      "provenance": [],
      "collapsed_sections": [],
      "authorship_tag": "ABX9TyPAYxSfuuQ+tegHnLVuUBk+",
      "include_colab_link": true
    },
    "kernelspec": {
      "name": "python3",
      "display_name": "Python 3"
    },
    "language_info": {
      "name": "python"
    }
  },
  "cells": [
    {
      "cell_type": "markdown",
      "metadata": {
        "id": "view-in-github",
        "colab_type": "text"
      },
      "source": [
        "<a href=\"https://colab.research.google.com/github/BurakCifci/Machine-Learning-CPE312/blob/main/Machine_Learning_CPE312_WEEK_6.ipynb\" target=\"_parent\"><img src=\"https://colab.research.google.com/assets/colab-badge.svg\" alt=\"Open In Colab\"/></a>"
      ]
    },
    {
      "cell_type": "code",
      "execution_count": 1,
      "metadata": {
        "id": "Tvr_I5Af4_0O"
      },
      "outputs": [],
      "source": [
        "import pandas as pd\n",
        "import numpy as np\n",
        "import matplotlib.pyplot as plt\n"
      ]
    },
    {
      "cell_type": "code",
      "source": [
        "data = pd.read_csv(\"/content/data.csv\") #İyi ve kötü huylu kanser hücreleri hakkında dataset // #M kotu huylu tumor B iyi huylu tumor\n",
        "data.drop([\"Unnamed: 32\",\"id\"],axis=1,inplace=True) #Verideki Unnamed: 32 ve id isimli kısımları kaldırdık\n",
        "data.diagnosis = [1 if each ==\"M\" else 0 for each in data.diagnosis]\n",
        "print(data.info())\n",
        "\n",
        "y=data.diagnosis.values\n",
        "x_data = data.drop([\"diagnosis\"],axis=1) #data.diagnosis harici butun veriler x ekseninde olacak."
      ],
      "metadata": {
        "colab": {
          "base_uri": "https://localhost:8080/"
        },
        "id": "jfo7UIGP5VQN",
        "outputId": "610065ec-061f-4bc1-e71a-1b4c72e6ab81"
      },
      "execution_count": 3,
      "outputs": [
        {
          "output_type": "stream",
          "name": "stdout",
          "text": [
            "<class 'pandas.core.frame.DataFrame'>\n",
            "RangeIndex: 569 entries, 0 to 568\n",
            "Data columns (total 31 columns):\n",
            " #   Column                   Non-Null Count  Dtype  \n",
            "---  ------                   --------------  -----  \n",
            " 0   diagnosis                569 non-null    int64  \n",
            " 1   radius_mean              569 non-null    float64\n",
            " 2   texture_mean             569 non-null    float64\n",
            " 3   perimeter_mean           569 non-null    float64\n",
            " 4   area_mean                569 non-null    float64\n",
            " 5   smoothness_mean          569 non-null    float64\n",
            " 6   compactness_mean         569 non-null    float64\n",
            " 7   concavity_mean           569 non-null    float64\n",
            " 8   concave points_mean      569 non-null    float64\n",
            " 9   symmetry_mean            569 non-null    float64\n",
            " 10  fractal_dimension_mean   569 non-null    float64\n",
            " 11  radius_se                569 non-null    float64\n",
            " 12  texture_se               569 non-null    float64\n",
            " 13  perimeter_se             569 non-null    float64\n",
            " 14  area_se                  569 non-null    float64\n",
            " 15  smoothness_se            569 non-null    float64\n",
            " 16  compactness_se           569 non-null    float64\n",
            " 17  concavity_se             569 non-null    float64\n",
            " 18  concave points_se        569 non-null    float64\n",
            " 19  symmetry_se              569 non-null    float64\n",
            " 20  fractal_dimension_se     569 non-null    float64\n",
            " 21  radius_worst             569 non-null    float64\n",
            " 22  texture_worst            569 non-null    float64\n",
            " 23  perimeter_worst          569 non-null    float64\n",
            " 24  area_worst               569 non-null    float64\n",
            " 25  smoothness_worst         569 non-null    float64\n",
            " 26  compactness_worst        569 non-null    float64\n",
            " 27  concavity_worst          569 non-null    float64\n",
            " 28  concave points_worst     569 non-null    float64\n",
            " 29  symmetry_worst           569 non-null    float64\n",
            " 30  fractal_dimension_worst  569 non-null    float64\n",
            "dtypes: float64(30), int64(1)\n",
            "memory usage: 137.9 KB\n",
            "None\n"
          ]
        }
      ]
    },
    {
      "cell_type": "code",
      "source": [
        "x=(x_data - np.min(x_data))/(np.max(x_data)-np.min(x_data)).values"
      ],
      "metadata": {
        "id": "0hWBj6TN5VR4"
      },
      "execution_count": 4,
      "outputs": []
    },
    {
      "cell_type": "code",
      "source": [
        "from sklearn.model_selection import train_test_split\n",
        "x_train,x_test,y_train,y_test = train_test_split(x,y,test_size=0.2,random_state=42) #%20lik kismi test icin ayirdik\n",
        "\n",
        "#transpozlarını aldik\n",
        "x_train = x_train.T \n",
        "x_test = x_test.T\n",
        "y_train = y_train.T\n",
        "y_test = y_test.T\n",
        "\n",
        "print(\"x_train:\",x_train.shape)\n",
        "print(\"x_test,:\",x_test.shape)\n",
        "print(\"y_train\",y_train.shape)\n",
        "print(\"y_test:\",y_test.shape)"
      ],
      "metadata": {
        "colab": {
          "base_uri": "https://localhost:8080/"
        },
        "id": "ZTuLo8Nu5VUs",
        "outputId": "166b5c23-dbb2-48d1-f059-46713b80201d"
      },
      "execution_count": 5,
      "outputs": [
        {
          "output_type": "stream",
          "name": "stdout",
          "text": [
            "x_train: (30, 455)\n",
            "x_test,: (30, 114)\n",
            "y_train (455,)\n",
            "y_test: (114,)\n"
          ]
        }
      ]
    },
    {
      "cell_type": "code",
      "source": [
        "def initialize_weights_and_bias(dimension):\n",
        "    \n",
        "    w = np.full((dimension,1),0.01) #0.01'lerden olusan bir matris olusturur. #En basta rastgele sectigimiz weight degerlerini buradan alıyoruz.\n",
        "    b = 0.0\n",
        "    return w,b\n",
        "    \n",
        "#w,b = initialize_weights_and_bias(30)\n",
        "\n",
        "def sigmoid(z):\n",
        "    \n",
        "    y_head =1/(1 + np.exp(-z)) #sigmoid f. formulu\n",
        "    return y_head"
      ],
      "metadata": {
        "id": "wGZ-exYX5VWi"
      },
      "execution_count": 6,
      "outputs": []
    },
    {
      "cell_type": "code",
      "source": [
        "def update(w, b, x_train, y_train, learning_rate, number_of_iteration):\n",
        "    cost_list = []\n",
        "    cost_list2 = []\n",
        "    index = []\n",
        "    \n",
        "    for i in range(number_of_iteration):\n",
        "        cost,gradients = forward_backward_propagation(w,b,x_train,y_train)\n",
        "        cost_list.append(cost) #tüm costlarin degerini tutuyoruz\n",
        "        \n",
        "        #weight - learningrate * weigthin cost'a gore turevi\n",
        "        w = w - learning_rate * gradients[\"derivative_weight\"]\n",
        "        b = b - learning_rate * gradients[\"derivative_bias\"]\n",
        "        if i % 10 == 0: #her 10 adimda bir costlarin degerini tutar\n",
        "            cost_list2.append(cost)\n",
        "            index.append(i)\n",
        "            print(\"Cost after iteration %i: %f\" %(i, cost))\n",
        "            \n",
        "            \n",
        "    parameters = {\"weight\":w,\"bias\":b}\n",
        "    plt.plot(index,cost_list2)\n",
        "    plt.xticks(index,cost_list2)\n",
        "    plt.xlabel(\"Number of Iteration\")\n",
        "    plt.ylabel(\"Cost\")\n",
        "    plt.show()\n",
        "    #cost ile gradient degerleri birbiri ile bağlantili degerlerdir birisi azalirsa digeri de azalir\n",
        "    return parameters,gradients,cost_list2"
      ],
      "metadata": {
        "id": "55XtPuX15VZs"
      },
      "execution_count": 14,
      "outputs": []
    },
    {
      "cell_type": "code",
      "source": [
        "def forward_backward_propagation(w,b,x_train,train):\n",
        "    #forward propagation\n",
        "    z = np.dot(w.T,x_train) + b\n",
        "    y_head = sigmoid(z)\n",
        "    loss = -y_train*np.log(y_head)-(1-y_train)*np.log(1-y_head)\n",
        "    cost = (np.sum(loss))/x_train.shape[1]\n",
        "    \n",
        "    #backward propagation\n",
        "    derivative_weight = (np.dot(x_train,((y_head-y_train).T)))/x_train.shape[1]\n",
        "    derivative_bias = np.sum(y_head-y_train)/x_train.shape[1]\n",
        "    gradients = {\"derivative_weight\": derivative_weight,\"derivative_bias\": derivative_bias}\n",
        "    return cost,gradients\n",
        "\n",
        "    # 1 forward propagation + 1 backward propagation = 1 number_of_iteration\n",
        "    # En basta rastgele 0.01 olarak aldıgımız weight degerlerini en verimli hale getirmek icin forward ve backward pro. uyguluyoruz."
      ],
      "metadata": {
        "id": "ebXgkjOe52sQ"
      },
      "execution_count": 15,
      "outputs": []
    },
    {
      "cell_type": "code",
      "source": [
        "def predict(w,b,x_test):\n",
        "    \n",
        "    z = sigmoid(np.dot(w.T,x_test)+b)\n",
        "    Y_prediction = np.zeros((1,x_test.shape[1]))\n",
        "    \n",
        "    for i in range(z.shape[1]):\n",
        "        if z[0,i]<=0.5:\n",
        "            Y_prediction[0,i] = 0\n",
        "        else:\n",
        "            Y_prediction[0,i] = 1\n",
        "            \n",
        "    return Y_prediction"
      ],
      "metadata": {
        "id": "H9Xg9y0r52t0"
      },
      "execution_count": 16,
      "outputs": []
    },
    {
      "cell_type": "code",
      "source": [
        "def logistic_regression(x_train, y_train, x_test, y_test, learning_rate , num_iterations):\n",
        "    # initialize\n",
        "    dimension =  x_train.shape[0]  # that is 30\n",
        "    w,b = initialize_weights_and_bias(dimension)\n",
        "    # do not change learning rate\n",
        "    parameters, gradients, cost_list = update(w, b, x_train, y_train, learning_rate,num_iterations)\n",
        "    \n",
        "    y_prediction_test = predict(parameters[\"weight\"],parameters[\"bias\"],x_test)\n",
        "\n",
        "    # Print train/test Errors\n",
        "    print(\"test accuracy: {} %\".format(100 - np.mean(np.abs(y_prediction_test - y_test)) * 100))\n",
        "    \n",
        "logistic_regression(x_train, y_train, x_test, y_test,learning_rate = 1, num_iterations = 300)\n"
      ],
      "metadata": {
        "colab": {
          "base_uri": "https://localhost:8080/",
          "height": 842
        },
        "id": "hmJmyGfa52w7",
        "outputId": "9ea604ce-0581-42a6-c77a-69392fcfa6f7"
      },
      "execution_count": 17,
      "outputs": [
        {
          "output_type": "stream",
          "name": "stdout",
          "text": [
            "Cost after iteration 0: 0.692977\n",
            "Cost after iteration 10: 0.499667\n",
            "Cost after iteration 20: 0.406616\n",
            "Cost after iteration 30: 0.351936\n",
            "Cost after iteration 40: 0.315762\n",
            "Cost after iteration 50: 0.289862\n",
            "Cost after iteration 60: 0.270257\n",
            "Cost after iteration 70: 0.254795\n",
            "Cost after iteration 80: 0.242214\n",
            "Cost after iteration 90: 0.231722\n",
            "Cost after iteration 100: 0.222796\n",
            "Cost after iteration 110: 0.215080\n",
            "Cost after iteration 120: 0.208317\n",
            "Cost after iteration 130: 0.202324\n",
            "Cost after iteration 140: 0.196961\n",
            "Cost after iteration 150: 0.192121\n",
            "Cost after iteration 160: 0.187722\n",
            "Cost after iteration 170: 0.183698\n",
            "Cost after iteration 180: 0.179997\n",
            "Cost after iteration 190: 0.176577\n",
            "Cost after iteration 200: 0.173402\n",
            "Cost after iteration 210: 0.170443\n",
            "Cost after iteration 220: 0.167676\n",
            "Cost after iteration 230: 0.165080\n",
            "Cost after iteration 240: 0.162638\n",
            "Cost after iteration 250: 0.160334\n",
            "Cost after iteration 260: 0.158155\n",
            "Cost after iteration 270: 0.156091\n",
            "Cost after iteration 280: 0.154131\n",
            "Cost after iteration 290: 0.152266\n"
          ]
        },
        {
          "output_type": "display_data",
          "data": {
            "text/plain": [
              "<Figure size 432x288 with 1 Axes>"
            ],
            "image/png": "[encoded data removed]"
          },
          "metadata": {
            "needs_background": "light"
          }
        },
        {
          "output_type": "stream",
          "name": "stdout",
          "text": [
            "test accuracy: 96.49122807017544 %\n"
          ]
        }
      ]
    },
    {
      "cell_type": "code",
      "source": [
        "from sklearn.linear_model import LogisticRegression\n",
        "lr = LogisticRegression()\n",
        "lr.fit(x_train.T,y_train.T)\n",
        "print(\"test accuracy {}\".format(lr.score(x_test.T,y_test.T)))"
      ],
      "metadata": {
        "colab": {
          "base_uri": "https://localhost:8080/"
        },
        "id": "fX5aWP8E52z1",
        "outputId": "aac69532-e3e6-4aac-a247-fc960be228a2"
      },
      "execution_count": 18,
      "outputs": [
        {
          "output_type": "stream",
          "name": "stdout",
          "text": [
            "test accuracy 0.9824561403508771\n"
          ]
        }
      ]
    }
  ]
}